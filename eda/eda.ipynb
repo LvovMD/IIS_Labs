{
 "cells": [
  {
   "cell_type": "code",
   "execution_count": 149,
   "id": "263b1303",
   "metadata": {},
   "outputs": [],
   "source": [
    "import pandas as pd\n",
    "import matplotlib as plt\n",
    "import seaborn as sns\n",
    "import numpy as np\n",
    "import pickle"
   ]
  },
  {
   "cell_type": "markdown",
   "id": "bc9686f2",
   "metadata": {},
   "source": [
    "# Загрузка и знакомство с данными"
   ]
  },
  {
   "cell_type": "code",
   "execution_count": 150,
   "id": "bd050da6",
   "metadata": {},
   "outputs": [
    {
     "data": {
      "text/html": [
       "<div>\n",
       "<style scoped>\n",
       "    .dataframe tbody tr th:only-of-type {\n",
       "        vertical-align: middle;\n",
       "    }\n",
       "\n",
       "    .dataframe tbody tr th {\n",
       "        vertical-align: top;\n",
       "    }\n",
       "\n",
       "    .dataframe thead th {\n",
       "        text-align: right;\n",
       "    }\n",
       "</style>\n",
       "<table border=\"1\" class=\"dataframe\">\n",
       "  <thead>\n",
       "    <tr style=\"text-align: right;\">\n",
       "      <th></th>\n",
       "      <th>battery_power</th>\n",
       "      <th>blue</th>\n",
       "      <th>clock_speed</th>\n",
       "      <th>dual_sim</th>\n",
       "      <th>fc</th>\n",
       "      <th>four_g</th>\n",
       "      <th>int_memory</th>\n",
       "      <th>m_dep</th>\n",
       "      <th>mobile_wt</th>\n",
       "      <th>n_cores</th>\n",
       "      <th>...</th>\n",
       "      <th>px_height</th>\n",
       "      <th>px_width</th>\n",
       "      <th>ram</th>\n",
       "      <th>sc_h</th>\n",
       "      <th>sc_w</th>\n",
       "      <th>talk_time</th>\n",
       "      <th>three_g</th>\n",
       "      <th>touch_screen</th>\n",
       "      <th>wifi</th>\n",
       "      <th>price_range</th>\n",
       "    </tr>\n",
       "  </thead>\n",
       "  <tbody>\n",
       "    <tr>\n",
       "      <th>0</th>\n",
       "      <td>842</td>\n",
       "      <td>0</td>\n",
       "      <td>2.2</td>\n",
       "      <td>0</td>\n",
       "      <td>1</td>\n",
       "      <td>0</td>\n",
       "      <td>7</td>\n",
       "      <td>0.6</td>\n",
       "      <td>188</td>\n",
       "      <td>2</td>\n",
       "      <td>...</td>\n",
       "      <td>20</td>\n",
       "      <td>756</td>\n",
       "      <td>2549</td>\n",
       "      <td>9</td>\n",
       "      <td>7</td>\n",
       "      <td>19</td>\n",
       "      <td>0</td>\n",
       "      <td>0</td>\n",
       "      <td>1</td>\n",
       "      <td>1</td>\n",
       "    </tr>\n",
       "    <tr>\n",
       "      <th>1</th>\n",
       "      <td>1021</td>\n",
       "      <td>1</td>\n",
       "      <td>0.5</td>\n",
       "      <td>1</td>\n",
       "      <td>0</td>\n",
       "      <td>1</td>\n",
       "      <td>53</td>\n",
       "      <td>0.7</td>\n",
       "      <td>136</td>\n",
       "      <td>3</td>\n",
       "      <td>...</td>\n",
       "      <td>905</td>\n",
       "      <td>1988</td>\n",
       "      <td>2631</td>\n",
       "      <td>17</td>\n",
       "      <td>3</td>\n",
       "      <td>7</td>\n",
       "      <td>1</td>\n",
       "      <td>1</td>\n",
       "      <td>0</td>\n",
       "      <td>2</td>\n",
       "    </tr>\n",
       "    <tr>\n",
       "      <th>2</th>\n",
       "      <td>563</td>\n",
       "      <td>1</td>\n",
       "      <td>0.5</td>\n",
       "      <td>1</td>\n",
       "      <td>2</td>\n",
       "      <td>1</td>\n",
       "      <td>41</td>\n",
       "      <td>0.9</td>\n",
       "      <td>145</td>\n",
       "      <td>5</td>\n",
       "      <td>...</td>\n",
       "      <td>1263</td>\n",
       "      <td>1716</td>\n",
       "      <td>2603</td>\n",
       "      <td>11</td>\n",
       "      <td>2</td>\n",
       "      <td>9</td>\n",
       "      <td>1</td>\n",
       "      <td>1</td>\n",
       "      <td>0</td>\n",
       "      <td>2</td>\n",
       "    </tr>\n",
       "    <tr>\n",
       "      <th>3</th>\n",
       "      <td>615</td>\n",
       "      <td>1</td>\n",
       "      <td>2.5</td>\n",
       "      <td>0</td>\n",
       "      <td>0</td>\n",
       "      <td>0</td>\n",
       "      <td>10</td>\n",
       "      <td>0.8</td>\n",
       "      <td>131</td>\n",
       "      <td>6</td>\n",
       "      <td>...</td>\n",
       "      <td>1216</td>\n",
       "      <td>1786</td>\n",
       "      <td>2769</td>\n",
       "      <td>16</td>\n",
       "      <td>8</td>\n",
       "      <td>11</td>\n",
       "      <td>1</td>\n",
       "      <td>0</td>\n",
       "      <td>0</td>\n",
       "      <td>2</td>\n",
       "    </tr>\n",
       "    <tr>\n",
       "      <th>4</th>\n",
       "      <td>1821</td>\n",
       "      <td>1</td>\n",
       "      <td>1.2</td>\n",
       "      <td>0</td>\n",
       "      <td>13</td>\n",
       "      <td>1</td>\n",
       "      <td>44</td>\n",
       "      <td>0.6</td>\n",
       "      <td>141</td>\n",
       "      <td>2</td>\n",
       "      <td>...</td>\n",
       "      <td>1208</td>\n",
       "      <td>1212</td>\n",
       "      <td>1411</td>\n",
       "      <td>8</td>\n",
       "      <td>2</td>\n",
       "      <td>15</td>\n",
       "      <td>1</td>\n",
       "      <td>1</td>\n",
       "      <td>0</td>\n",
       "      <td>1</td>\n",
       "    </tr>\n",
       "    <tr>\n",
       "      <th>5</th>\n",
       "      <td>1859</td>\n",
       "      <td>0</td>\n",
       "      <td>0.5</td>\n",
       "      <td>1</td>\n",
       "      <td>3</td>\n",
       "      <td>0</td>\n",
       "      <td>22</td>\n",
       "      <td>0.7</td>\n",
       "      <td>164</td>\n",
       "      <td>1</td>\n",
       "      <td>...</td>\n",
       "      <td>1004</td>\n",
       "      <td>1654</td>\n",
       "      <td>1067</td>\n",
       "      <td>17</td>\n",
       "      <td>1</td>\n",
       "      <td>10</td>\n",
       "      <td>1</td>\n",
       "      <td>0</td>\n",
       "      <td>0</td>\n",
       "      <td>1</td>\n",
       "    </tr>\n",
       "    <tr>\n",
       "      <th>6</th>\n",
       "      <td>1821</td>\n",
       "      <td>0</td>\n",
       "      <td>1.7</td>\n",
       "      <td>0</td>\n",
       "      <td>4</td>\n",
       "      <td>1</td>\n",
       "      <td>10</td>\n",
       "      <td>0.8</td>\n",
       "      <td>139</td>\n",
       "      <td>8</td>\n",
       "      <td>...</td>\n",
       "      <td>381</td>\n",
       "      <td>1018</td>\n",
       "      <td>3220</td>\n",
       "      <td>13</td>\n",
       "      <td>8</td>\n",
       "      <td>18</td>\n",
       "      <td>1</td>\n",
       "      <td>0</td>\n",
       "      <td>1</td>\n",
       "      <td>3</td>\n",
       "    </tr>\n",
       "    <tr>\n",
       "      <th>7</th>\n",
       "      <td>1954</td>\n",
       "      <td>0</td>\n",
       "      <td>0.5</td>\n",
       "      <td>1</td>\n",
       "      <td>0</td>\n",
       "      <td>0</td>\n",
       "      <td>24</td>\n",
       "      <td>0.8</td>\n",
       "      <td>187</td>\n",
       "      <td>4</td>\n",
       "      <td>...</td>\n",
       "      <td>512</td>\n",
       "      <td>1149</td>\n",
       "      <td>700</td>\n",
       "      <td>16</td>\n",
       "      <td>3</td>\n",
       "      <td>5</td>\n",
       "      <td>1</td>\n",
       "      <td>1</td>\n",
       "      <td>1</td>\n",
       "      <td>0</td>\n",
       "    </tr>\n",
       "    <tr>\n",
       "      <th>8</th>\n",
       "      <td>1445</td>\n",
       "      <td>1</td>\n",
       "      <td>0.5</td>\n",
       "      <td>0</td>\n",
       "      <td>0</td>\n",
       "      <td>0</td>\n",
       "      <td>53</td>\n",
       "      <td>0.7</td>\n",
       "      <td>174</td>\n",
       "      <td>7</td>\n",
       "      <td>...</td>\n",
       "      <td>386</td>\n",
       "      <td>836</td>\n",
       "      <td>1099</td>\n",
       "      <td>17</td>\n",
       "      <td>1</td>\n",
       "      <td>20</td>\n",
       "      <td>1</td>\n",
       "      <td>0</td>\n",
       "      <td>0</td>\n",
       "      <td>0</td>\n",
       "    </tr>\n",
       "    <tr>\n",
       "      <th>9</th>\n",
       "      <td>509</td>\n",
       "      <td>1</td>\n",
       "      <td>0.6</td>\n",
       "      <td>1</td>\n",
       "      <td>2</td>\n",
       "      <td>1</td>\n",
       "      <td>9</td>\n",
       "      <td>0.1</td>\n",
       "      <td>93</td>\n",
       "      <td>5</td>\n",
       "      <td>...</td>\n",
       "      <td>1137</td>\n",
       "      <td>1224</td>\n",
       "      <td>513</td>\n",
       "      <td>19</td>\n",
       "      <td>10</td>\n",
       "      <td>12</td>\n",
       "      <td>1</td>\n",
       "      <td>0</td>\n",
       "      <td>0</td>\n",
       "      <td>0</td>\n",
       "    </tr>\n",
       "  </tbody>\n",
       "</table>\n",
       "<p>10 rows × 21 columns</p>\n",
       "</div>"
      ],
      "text/plain": [
       "   battery_power  blue  clock_speed  dual_sim  fc  four_g  int_memory  m_dep  \\\n",
       "0            842     0          2.2         0   1       0           7    0.6   \n",
       "1           1021     1          0.5         1   0       1          53    0.7   \n",
       "2            563     1          0.5         1   2       1          41    0.9   \n",
       "3            615     1          2.5         0   0       0          10    0.8   \n",
       "4           1821     1          1.2         0  13       1          44    0.6   \n",
       "5           1859     0          0.5         1   3       0          22    0.7   \n",
       "6           1821     0          1.7         0   4       1          10    0.8   \n",
       "7           1954     0          0.5         1   0       0          24    0.8   \n",
       "8           1445     1          0.5         0   0       0          53    0.7   \n",
       "9            509     1          0.6         1   2       1           9    0.1   \n",
       "\n",
       "   mobile_wt  n_cores  ...  px_height  px_width   ram  sc_h  sc_w  talk_time  \\\n",
       "0        188        2  ...         20       756  2549     9     7         19   \n",
       "1        136        3  ...        905      1988  2631    17     3          7   \n",
       "2        145        5  ...       1263      1716  2603    11     2          9   \n",
       "3        131        6  ...       1216      1786  2769    16     8         11   \n",
       "4        141        2  ...       1208      1212  1411     8     2         15   \n",
       "5        164        1  ...       1004      1654  1067    17     1         10   \n",
       "6        139        8  ...        381      1018  3220    13     8         18   \n",
       "7        187        4  ...        512      1149   700    16     3          5   \n",
       "8        174        7  ...        386       836  1099    17     1         20   \n",
       "9         93        5  ...       1137      1224   513    19    10         12   \n",
       "\n",
       "   three_g  touch_screen  wifi  price_range  \n",
       "0        0             0     1            1  \n",
       "1        1             1     0            2  \n",
       "2        1             1     0            2  \n",
       "3        1             0     0            2  \n",
       "4        1             1     0            1  \n",
       "5        1             0     0            1  \n",
       "6        1             0     1            3  \n",
       "7        1             1     1            0  \n",
       "8        1             0     0            0  \n",
       "9        1             0     0            0  \n",
       "\n",
       "[10 rows x 21 columns]"
      ]
     },
     "execution_count": 150,
     "metadata": {},
     "output_type": "execute_result"
    }
   ],
   "source": [
    "df = pd.read_csv(\"/home/mainuser/lab_project/data/train.csv\")\n",
    "df.head(10)"
   ]
  },
  {
   "cell_type": "code",
   "execution_count": 151,
   "id": "2a144af5",
   "metadata": {},
   "outputs": [
    {
     "name": "stdout",
     "output_type": "stream",
     "text": [
      "<class 'pandas.core.frame.DataFrame'>\n",
      "RangeIndex: 2000 entries, 0 to 1999\n",
      "Data columns (total 21 columns):\n",
      " #   Column         Non-Null Count  Dtype  \n",
      "---  ------         --------------  -----  \n",
      " 0   battery_power  2000 non-null   int64  \n",
      " 1   blue           2000 non-null   int64  \n",
      " 2   clock_speed    2000 non-null   float64\n",
      " 3   dual_sim       2000 non-null   int64  \n",
      " 4   fc             2000 non-null   int64  \n",
      " 5   four_g         2000 non-null   int64  \n",
      " 6   int_memory     2000 non-null   int64  \n",
      " 7   m_dep          2000 non-null   float64\n",
      " 8   mobile_wt      2000 non-null   int64  \n",
      " 9   n_cores        2000 non-null   int64  \n",
      " 10  pc             2000 non-null   int64  \n",
      " 11  px_height      2000 non-null   int64  \n",
      " 12  px_width       2000 non-null   int64  \n",
      " 13  ram            2000 non-null   int64  \n",
      " 14  sc_h           2000 non-null   int64  \n",
      " 15  sc_w           2000 non-null   int64  \n",
      " 16  talk_time      2000 non-null   int64  \n",
      " 17  three_g        2000 non-null   int64  \n",
      " 18  touch_screen   2000 non-null   int64  \n",
      " 19  wifi           2000 non-null   int64  \n",
      " 20  price_range    2000 non-null   int64  \n",
      "dtypes: float64(2), int64(19)\n",
      "memory usage: 328.2 KB\n"
     ]
    }
   ],
   "source": [
    "df.info(show_counts=True)"
   ]
  },
  {
   "cell_type": "markdown",
   "id": "b80310cf",
   "metadata": {},
   "source": [
    "Оптимизация типов"
   ]
  },
  {
   "cell_type": "code",
   "execution_count": 152,
   "id": "a300e523",
   "metadata": {},
   "outputs": [],
   "source": [
    "df['blue'] = df['blue'].astype('category')\n",
    "df['dual_sim'] = df['dual_sim'].astype('category')\n",
    "df['four_g'] = df['four_g'].astype('category')\n",
    "df['three_g'] = df['three_g'].astype('category')\n",
    "df['touch_screen'] = df['touch_screen'].astype('category')\n",
    "df['wifi'] = df['wifi'].astype('category')\n",
    "price_range_cat = pd.api.types.CategoricalDtype(categories=[0,1,2,3],ordered=True)\n",
    "df['price_range'] = df['price_range'].astype(price_range_cat)\n",
    "\n",
    "df['battery_power'] = df['battery_power'].astype('int16')\n",
    "df['mobile_wt'] = df['mobile_wt'].astype('int16')\n",
    "df['px_height'] = df['px_height'].astype('int16')\n",
    "df['px_width'] = df['px_width'].astype('int16')\n",
    "df['ram'] = df['ram'].astype('int16')\n",
    "\n",
    "df['clock_speed'] = df['clock_speed'].astype('float16')\n",
    "df['m_dep'] = df['m_dep'].astype('float16')\n",
    "\n",
    "df['fc'] = df['fc'].astype('int16')\n",
    "df['int_memory'] = df['int_memory'].astype('int16')\n",
    "df['n_cores'] = df['n_cores'].astype('int16')\n",
    "df['pc'] = df['pc'].astype('int16')\n",
    "df['sc_h'] = df['sc_h'].astype('int16')\n",
    "df['sc_w'] = df['sc_w'].astype('int16')\n",
    "df['talk_time'] = df['talk_time'].astype('int16')\n"
   ]
  },
  {
   "cell_type": "markdown",
   "id": "07c3986f",
   "metadata": {},
   "source": [
    "Сводные параметры"
   ]
  },
  {
   "cell_type": "code",
   "execution_count": 153,
   "id": "a040a369",
   "metadata": {},
   "outputs": [
    {
     "data": {
      "text/html": [
       "<div>\n",
       "<style scoped>\n",
       "    .dataframe tbody tr th:only-of-type {\n",
       "        vertical-align: middle;\n",
       "    }\n",
       "\n",
       "    .dataframe tbody tr th {\n",
       "        vertical-align: top;\n",
       "    }\n",
       "\n",
       "    .dataframe thead th {\n",
       "        text-align: right;\n",
       "    }\n",
       "</style>\n",
       "<table border=\"1\" class=\"dataframe\">\n",
       "  <thead>\n",
       "    <tr style=\"text-align: right;\">\n",
       "      <th></th>\n",
       "      <th>battery_power</th>\n",
       "      <th>clock_speed</th>\n",
       "      <th>fc</th>\n",
       "      <th>int_memory</th>\n",
       "      <th>m_dep</th>\n",
       "      <th>mobile_wt</th>\n",
       "      <th>n_cores</th>\n",
       "      <th>pc</th>\n",
       "      <th>px_height</th>\n",
       "      <th>px_width</th>\n",
       "      <th>ram</th>\n",
       "      <th>sc_h</th>\n",
       "      <th>sc_w</th>\n",
       "      <th>talk_time</th>\n",
       "    </tr>\n",
       "  </thead>\n",
       "  <tbody>\n",
       "    <tr>\n",
       "      <th>count</th>\n",
       "      <td>2000.000000</td>\n",
       "      <td>2000.000000</td>\n",
       "      <td>2000.000000</td>\n",
       "      <td>2000.000000</td>\n",
       "      <td>2000.000000</td>\n",
       "      <td>2000.000000</td>\n",
       "      <td>2000.000000</td>\n",
       "      <td>2000.000000</td>\n",
       "      <td>2000.000000</td>\n",
       "      <td>2000.000000</td>\n",
       "      <td>2000.000000</td>\n",
       "      <td>2000.000000</td>\n",
       "      <td>2000.000000</td>\n",
       "      <td>2000.000000</td>\n",
       "    </tr>\n",
       "    <tr>\n",
       "      <th>mean</th>\n",
       "      <td>1238.518500</td>\n",
       "      <td>1.522461</td>\n",
       "      <td>4.309500</td>\n",
       "      <td>32.046500</td>\n",
       "      <td>0.501953</td>\n",
       "      <td>140.249000</td>\n",
       "      <td>4.520500</td>\n",
       "      <td>9.916500</td>\n",
       "      <td>645.108000</td>\n",
       "      <td>1251.515500</td>\n",
       "      <td>2124.213000</td>\n",
       "      <td>12.306500</td>\n",
       "      <td>5.767000</td>\n",
       "      <td>11.011000</td>\n",
       "    </tr>\n",
       "    <tr>\n",
       "      <th>std</th>\n",
       "      <td>439.418206</td>\n",
       "      <td>0.815918</td>\n",
       "      <td>4.341444</td>\n",
       "      <td>18.145715</td>\n",
       "      <td>0.288330</td>\n",
       "      <td>35.399655</td>\n",
       "      <td>2.287837</td>\n",
       "      <td>6.064315</td>\n",
       "      <td>443.780811</td>\n",
       "      <td>432.199447</td>\n",
       "      <td>1084.732044</td>\n",
       "      <td>4.213245</td>\n",
       "      <td>4.356398</td>\n",
       "      <td>5.463955</td>\n",
       "    </tr>\n",
       "    <tr>\n",
       "      <th>min</th>\n",
       "      <td>501.000000</td>\n",
       "      <td>0.500000</td>\n",
       "      <td>0.000000</td>\n",
       "      <td>2.000000</td>\n",
       "      <td>0.099976</td>\n",
       "      <td>80.000000</td>\n",
       "      <td>1.000000</td>\n",
       "      <td>0.000000</td>\n",
       "      <td>0.000000</td>\n",
       "      <td>500.000000</td>\n",
       "      <td>256.000000</td>\n",
       "      <td>5.000000</td>\n",
       "      <td>0.000000</td>\n",
       "      <td>2.000000</td>\n",
       "    </tr>\n",
       "    <tr>\n",
       "      <th>25%</th>\n",
       "      <td>851.750000</td>\n",
       "      <td>0.700195</td>\n",
       "      <td>1.000000</td>\n",
       "      <td>16.000000</td>\n",
       "      <td>0.199951</td>\n",
       "      <td>109.000000</td>\n",
       "      <td>3.000000</td>\n",
       "      <td>5.000000</td>\n",
       "      <td>282.750000</td>\n",
       "      <td>874.750000</td>\n",
       "      <td>1207.500000</td>\n",
       "      <td>9.000000</td>\n",
       "      <td>2.000000</td>\n",
       "      <td>6.000000</td>\n",
       "    </tr>\n",
       "    <tr>\n",
       "      <th>50%</th>\n",
       "      <td>1226.000000</td>\n",
       "      <td>1.500000</td>\n",
       "      <td>3.000000</td>\n",
       "      <td>32.000000</td>\n",
       "      <td>0.500000</td>\n",
       "      <td>141.000000</td>\n",
       "      <td>4.000000</td>\n",
       "      <td>10.000000</td>\n",
       "      <td>564.000000</td>\n",
       "      <td>1247.000000</td>\n",
       "      <td>2146.500000</td>\n",
       "      <td>12.000000</td>\n",
       "      <td>5.000000</td>\n",
       "      <td>11.000000</td>\n",
       "    </tr>\n",
       "    <tr>\n",
       "      <th>75%</th>\n",
       "      <td>1615.250000</td>\n",
       "      <td>2.199219</td>\n",
       "      <td>7.000000</td>\n",
       "      <td>48.000000</td>\n",
       "      <td>0.799805</td>\n",
       "      <td>170.000000</td>\n",
       "      <td>7.000000</td>\n",
       "      <td>15.000000</td>\n",
       "      <td>947.250000</td>\n",
       "      <td>1633.000000</td>\n",
       "      <td>3064.500000</td>\n",
       "      <td>16.000000</td>\n",
       "      <td>9.000000</td>\n",
       "      <td>16.000000</td>\n",
       "    </tr>\n",
       "    <tr>\n",
       "      <th>max</th>\n",
       "      <td>1998.000000</td>\n",
       "      <td>3.000000</td>\n",
       "      <td>19.000000</td>\n",
       "      <td>64.000000</td>\n",
       "      <td>1.000000</td>\n",
       "      <td>200.000000</td>\n",
       "      <td>8.000000</td>\n",
       "      <td>20.000000</td>\n",
       "      <td>1960.000000</td>\n",
       "      <td>1998.000000</td>\n",
       "      <td>3998.000000</td>\n",
       "      <td>19.000000</td>\n",
       "      <td>18.000000</td>\n",
       "      <td>20.000000</td>\n",
       "    </tr>\n",
       "  </tbody>\n",
       "</table>\n",
       "</div>"
      ],
      "text/plain": [
       "       battery_power  clock_speed           fc   int_memory        m_dep  \\\n",
       "count    2000.000000  2000.000000  2000.000000  2000.000000  2000.000000   \n",
       "mean     1238.518500     1.522461     4.309500    32.046500     0.501953   \n",
       "std       439.418206     0.815918     4.341444    18.145715     0.288330   \n",
       "min       501.000000     0.500000     0.000000     2.000000     0.099976   \n",
       "25%       851.750000     0.700195     1.000000    16.000000     0.199951   \n",
       "50%      1226.000000     1.500000     3.000000    32.000000     0.500000   \n",
       "75%      1615.250000     2.199219     7.000000    48.000000     0.799805   \n",
       "max      1998.000000     3.000000    19.000000    64.000000     1.000000   \n",
       "\n",
       "         mobile_wt      n_cores           pc    px_height     px_width  \\\n",
       "count  2000.000000  2000.000000  2000.000000  2000.000000  2000.000000   \n",
       "mean    140.249000     4.520500     9.916500   645.108000  1251.515500   \n",
       "std      35.399655     2.287837     6.064315   443.780811   432.199447   \n",
       "min      80.000000     1.000000     0.000000     0.000000   500.000000   \n",
       "25%     109.000000     3.000000     5.000000   282.750000   874.750000   \n",
       "50%     141.000000     4.000000    10.000000   564.000000  1247.000000   \n",
       "75%     170.000000     7.000000    15.000000   947.250000  1633.000000   \n",
       "max     200.000000     8.000000    20.000000  1960.000000  1998.000000   \n",
       "\n",
       "               ram         sc_h         sc_w    talk_time  \n",
       "count  2000.000000  2000.000000  2000.000000  2000.000000  \n",
       "mean   2124.213000    12.306500     5.767000    11.011000  \n",
       "std    1084.732044     4.213245     4.356398     5.463955  \n",
       "min     256.000000     5.000000     0.000000     2.000000  \n",
       "25%    1207.500000     9.000000     2.000000     6.000000  \n",
       "50%    2146.500000    12.000000     5.000000    11.000000  \n",
       "75%    3064.500000    16.000000     9.000000    16.000000  \n",
       "max    3998.000000    19.000000    18.000000    20.000000  "
      ]
     },
     "execution_count": 153,
     "metadata": {},
     "output_type": "execute_result"
    }
   ],
   "source": [
    "df.describe()"
   ]
  },
  {
   "cell_type": "code",
   "execution_count": 154,
   "id": "05750fa1",
   "metadata": {},
   "outputs": [
    {
     "data": {
      "text/plain": [
       "['blue',\n",
       " 'dual_sim',\n",
       " 'four_g',\n",
       " 'three_g',\n",
       " 'touch_screen',\n",
       " 'wifi',\n",
       " 'price_range']"
      ]
     },
     "execution_count": 154,
     "metadata": {},
     "output_type": "execute_result"
    }
   ],
   "source": [
    "cat_features = df.select_dtypes(include=['category']).columns.to_list()\n",
    "cat_features"
   ]
  },
  {
   "cell_type": "code",
   "execution_count": 155,
   "id": "413f31f7",
   "metadata": {},
   "outputs": [
    {
     "data": {
      "text/plain": [
       "['battery_power',\n",
       " 'clock_speed',\n",
       " 'fc',\n",
       " 'int_memory',\n",
       " 'm_dep',\n",
       " 'mobile_wt',\n",
       " 'n_cores',\n",
       " 'pc',\n",
       " 'px_height',\n",
       " 'px_width',\n",
       " 'ram',\n",
       " 'sc_h',\n",
       " 'sc_w',\n",
       " 'talk_time']"
      ]
     },
     "execution_count": 155,
     "metadata": {},
     "output_type": "execute_result"
    }
   ],
   "source": [
    "num_features = df.select_dtypes(include=['number']).columns.to_list()\n",
    "num_features"
   ]
  },
  {
   "cell_type": "code",
   "execution_count": 156,
   "id": "e7c0f0f5",
   "metadata": {},
   "outputs": [
    {
     "name": "stdout",
     "output_type": "stream",
     "text": [
      "<class 'pandas.core.frame.DataFrame'>\n",
      "RangeIndex: 2000 entries, 0 to 1999\n",
      "Data columns (total 21 columns):\n",
      " #   Column         Non-Null Count  Dtype   \n",
      "---  ------         --------------  -----   \n",
      " 0   battery_power  2000 non-null   int16   \n",
      " 1   blue           2000 non-null   category\n",
      " 2   clock_speed    2000 non-null   float16 \n",
      " 3   dual_sim       2000 non-null   category\n",
      " 4   fc             2000 non-null   int16   \n",
      " 5   four_g         2000 non-null   category\n",
      " 6   int_memory     2000 non-null   int16   \n",
      " 7   m_dep          2000 non-null   float16 \n",
      " 8   mobile_wt      2000 non-null   int16   \n",
      " 9   n_cores        2000 non-null   int16   \n",
      " 10  pc             2000 non-null   int16   \n",
      " 11  px_height      2000 non-null   int16   \n",
      " 12  px_width       2000 non-null   int16   \n",
      " 13  ram            2000 non-null   int16   \n",
      " 14  sc_h           2000 non-null   int16   \n",
      " 15  sc_w           2000 non-null   int16   \n",
      " 16  talk_time      2000 non-null   int16   \n",
      " 17  three_g        2000 non-null   category\n",
      " 18  touch_screen   2000 non-null   category\n",
      " 19  wifi           2000 non-null   category\n",
      " 20  price_range    2000 non-null   category\n",
      "dtypes: category(7), float16(2), int16(12)\n",
      "memory usage: 69.4 KB\n"
     ]
    }
   ],
   "source": [
    "df.info(show_counts=True)"
   ]
  },
  {
   "cell_type": "code",
   "execution_count": 157,
   "id": "c7f1d2e3",
   "metadata": {},
   "outputs": [
    {
     "name": "stdout",
     "output_type": "stream",
     "text": [
      "blue - unique count:2\n",
      "dual_sim - unique count:2\n",
      "four_g - unique count:2\n",
      "three_g - unique count:2\n",
      "touch_screen - unique count:2\n",
      "wifi - unique count:2\n",
      "price_range - unique count:4\n"
     ]
    }
   ],
   "source": [
    "for cat in cat_features:\n",
    "    print(f'{cat} - unique count:{df[cat].nunique()}')"
   ]
  },
  {
   "cell_type": "code",
   "execution_count": 158,
   "id": "6457e9fd",
   "metadata": {},
   "outputs": [
    {
     "name": "stdout",
     "output_type": "stream",
     "text": [
      "blue - value count:blue\n",
      "0    1010\n",
      "1     990\n",
      "Name: count, dtype: int64\n",
      "dual_sim - value count:dual_sim\n",
      "1    1019\n",
      "0     981\n",
      "Name: count, dtype: int64\n",
      "four_g - value count:four_g\n",
      "1    1043\n",
      "0     957\n",
      "Name: count, dtype: int64\n",
      "three_g - value count:three_g\n",
      "1    1523\n",
      "0     477\n",
      "Name: count, dtype: int64\n",
      "touch_screen - value count:touch_screen\n",
      "1    1006\n",
      "0     994\n",
      "Name: count, dtype: int64\n",
      "wifi - value count:wifi\n",
      "1    1014\n",
      "0     986\n",
      "Name: count, dtype: int64\n",
      "price_range - value count:price_range\n",
      "0    500\n",
      "1    500\n",
      "2    500\n",
      "3    500\n",
      "Name: count, dtype: int64\n"
     ]
    }
   ],
   "source": [
    "for col in cat_features:\n",
    "    print(f'{col} - value count:{df[col].value_counts()}')"
   ]
  },
  {
   "cell_type": "markdown",
   "id": "3d517b35",
   "metadata": {},
   "source": [
    "# Очистка данных"
   ]
  },
  {
   "cell_type": "code",
   "execution_count": 159,
   "id": "0674db68",
   "metadata": {},
   "outputs": [],
   "source": [
    "df = df.query('sc_h > 0')\n",
    "df = df.query('sc_w > 0')\n",
    "df = df.query('px_height > 0')\n",
    "df = df.query('px_width > 0')"
   ]
  },
  {
   "cell_type": "code",
   "execution_count": 160,
   "id": "d659b476",
   "metadata": {},
   "outputs": [
    {
     "name": "stdout",
     "output_type": "stream",
     "text": [
      "<class 'pandas.core.frame.DataFrame'>\n",
      "Index: 1819 entries, 0 to 1999\n",
      "Data columns (total 21 columns):\n",
      " #   Column         Non-Null Count  Dtype   \n",
      "---  ------         --------------  -----   \n",
      " 0   battery_power  1819 non-null   int16   \n",
      " 1   blue           1819 non-null   category\n",
      " 2   clock_speed    1819 non-null   float16 \n",
      " 3   dual_sim       1819 non-null   category\n",
      " 4   fc             1819 non-null   int16   \n",
      " 5   four_g         1819 non-null   category\n",
      " 6   int_memory     1819 non-null   int16   \n",
      " 7   m_dep          1819 non-null   float16 \n",
      " 8   mobile_wt      1819 non-null   int16   \n",
      " 9   n_cores        1819 non-null   int16   \n",
      " 10  pc             1819 non-null   int16   \n",
      " 11  px_height      1819 non-null   int16   \n",
      " 12  px_width       1819 non-null   int16   \n",
      " 13  ram            1819 non-null   int16   \n",
      " 14  sc_h           1819 non-null   int16   \n",
      " 15  sc_w           1819 non-null   int16   \n",
      " 16  talk_time      1819 non-null   int16   \n",
      " 17  three_g        1819 non-null   category\n",
      " 18  touch_screen   1819 non-null   category\n",
      " 19  wifi           1819 non-null   category\n",
      " 20  price_range    1819 non-null   category\n",
      "dtypes: category(7), float16(2), int16(12)\n",
      "memory usage: 77.3 KB\n"
     ]
    }
   ],
   "source": [
    "df.info(show_counts=True)"
   ]
  },
  {
   "cell_type": "markdown",
   "id": "b28eca0a",
   "metadata": {},
   "source": [
    "# Анализ признаков"
   ]
  },
  {
   "cell_type": "markdown",
   "id": "f0a4a44d",
   "metadata": {},
   "source": [
    "## Heatmap"
   ]
  },
  {
   "cell_type": "code",
   "execution_count": null,
   "id": "cd61d633",
   "metadata": {},
   "outputs": [],
   "source": [
    "feature_correlation = df[num_features].corr()\n",
    "ax = sns.heatmap(feature_correlation, annot=True,annot_kws={\"size\":6})"
   ]
  },
  {
   "cell_type": "markdown",
   "id": "6716e71d",
   "metadata": {},
   "source": [
    "График демонстрирует взаимную корреляцию числовых признаков для дальнейшего анализа. Можно сделать вывод, что исключительно небольшое количество признаков влияют друг на друга: параметры экрана (высота и ширина) и свойства основной и фронтальной камер. Это указывает на то, что боольшинство экранов использует ограниченный набор разрешений, которые производители стараются поддерживать независимо от размеров монитора в целом, и что модули камер прогрессируют параллельно между моделями."
   ]
  },
  {
   "cell_type": "markdown",
   "id": "9b5620e0",
   "metadata": {},
   "source": [
    "## Displot"
   ]
  },
  {
   "cell_type": "code",
   "execution_count": null,
   "id": "fc83cf95",
   "metadata": {},
   "outputs": [],
   "source": [
    "sns.displot(df, x='battery_power', hue='price_range', kde=True)"
   ]
  },
  {
   "cell_type": "markdown",
   "id": "13239276",
   "metadata": {},
   "source": [
    "Данный график показывает, что для высокого ценового сегмента более характерны модели с высокой емкостью батареи, в то время как для низкого - низкой; в среднем же ценовом сегменте в равной мере представлены модели с различным объемом батареи. Это позволяет отметить данный признак как важный для дальнейшей классификации."
   ]
  },
  {
   "cell_type": "code",
   "execution_count": null,
   "id": "7d713443",
   "metadata": {},
   "outputs": [],
   "source": [
    "sns.displot(df, x='battery_power',y='clock_speed',col='price_range')"
   ]
  },
  {
   "cell_type": "markdown",
   "id": "eba8f0bd",
   "metadata": {},
   "source": [
    "Данный график показывает не только факт того, что модели с низкой тактовой частотой процессора в равной степени преобладают во всех ценовых сегментах (что делает этот признак менее информативный для дальнейшей классификации), но и подтверждает низкую корреляцию между размером батареи и тактовой частотой."
   ]
  },
  {
   "cell_type": "markdown",
   "id": "c6ffdd0a",
   "metadata": {},
   "source": [
    "## Histplot"
   ]
  },
  {
   "cell_type": "code",
   "execution_count": null,
   "id": "876a8639",
   "metadata": {},
   "outputs": [],
   "source": [
    "fig, axs = plt.pyplot.subplots(2,3)\n",
    "fig.tight_layout(pad=1)\n",
    "fig.set_size_inches(16.5, 14, forward=True)\n",
    "\n",
    "sns.histplot(df, x = 'price_range', hue = 'high_speed_ethernet', ax=axs[0,0])\n",
    "sns.histplot(df, x = 'price_range', hue = 'blue', ax=axs[0,1])\n",
    "sns.histplot(df, x = 'price_range', hue = 'touch_screen', ax=axs[1,0])\n",
    "sns.histplot(df, x = 'price_range', hue = 'wifi', ax=axs[1,1])\n",
    "sns.histplot(df, x = 'price_range', hue = 'dual_sim', ax=axs[0,2])"
   ]
  },
  {
   "cell_type": "markdown",
   "id": "981fec65",
   "metadata": {},
   "source": [
    "Данный график показывает низкий уровень влияния особых функций связи (Bluetooth, 3g/4g интернет) и наличия сенсорного экрана или возможности установки двух сим-карт на категорию стоимости устройства."
   ]
  },
  {
   "cell_type": "markdown",
   "id": "f780491f",
   "metadata": {},
   "source": [
    "## Scatterplot"
   ]
  },
  {
   "cell_type": "code",
   "execution_count": null,
   "id": "414a0fc9",
   "metadata": {},
   "outputs": [],
   "source": [
    "sns.scatterplot(df, x = 'ram', y = 'int_memory', hue = 'price_range')"
   ]
  },
  {
   "cell_type": "markdown",
   "id": "d35de552",
   "metadata": {},
   "source": [
    "Данный график позволяет визуализировать распределение моделей по условным ценовым классам на основе общей мощности. Можно обоснованно предположить, что с данной точки зрения классы хорошо сбалансированы, но имеют очень нечеткие границы."
   ]
  },
  {
   "cell_type": "code",
   "execution_count": 165,
   "id": "31abb062",
   "metadata": {},
   "outputs": [],
   "source": [
    "df['high_speed_ethernet'] = df.apply(lambda x: 'four_g' if x['four_g'] == 1 \\\n",
    "                             else 'three_g' if x['three_g'] == 1 \\\n",
    "                             else 'none', axis = 1).astype('category') "
   ]
  },
  {
   "cell_type": "code",
   "execution_count": 166,
   "id": "8649c25f",
   "metadata": {},
   "outputs": [
    {
     "data": {
      "text/plain": [
       "high_speed_ethernet\n",
       "four_g     954\n",
       "none       435\n",
       "three_g    430\n",
       "Name: count, dtype: int64"
      ]
     },
     "execution_count": 166,
     "metadata": {},
     "output_type": "execute_result"
    }
   ],
   "source": [
    "df['high_speed_ethernet'].value_counts()"
   ]
  },
  {
   "cell_type": "code",
   "execution_count": null,
   "id": "ee92000f",
   "metadata": {},
   "outputs": [],
   "source": [
    "fig, axs = plt.pyplot.subplots(2,3)\n",
    "fig.tight_layout(pad=1)\n",
    "fig.set_size_inches(16.5, 14, forward=True)\n",
    "\n",
    "sns.scatterplot(df, x = 'ram', y = 'int_memory', hue = 'high_speed_ethernet', ax=axs[0,0])\n",
    "sns.scatterplot(df, x = 'ram', y = 'int_memory', hue = 'blue', ax=axs[0,1])\n",
    "sns.scatterplot(df, x = 'ram', y = 'int_memory', hue = 'touch_screen', ax=axs[1,0])\n",
    "sns.scatterplot(df, x = 'ram', y = 'int_memory', hue = 'wifi', ax=axs[1,1])\n",
    "sns.scatterplot(df, x = 'ram', y = 'int_memory', hue = 'dual_sim', ax=axs[0,2])"
   ]
  },
  {
   "cell_type": "markdown",
   "id": "03585891",
   "metadata": {},
   "source": [
    "Данный график показывает отсутствие влияния особых функций связи (Bluetooth, 3g/4g интернет) и наличия сенсорного экрана или возможности установки двух сим-карт на совокупную мощность устройства."
   ]
  },
  {
   "cell_type": "markdown",
   "id": "b8eb5da3",
   "metadata": {},
   "source": [
    "## Boken"
   ]
  },
  {
   "cell_type": "code",
   "execution_count": 168,
   "id": "8dc0194b",
   "metadata": {},
   "outputs": [
    {
     "data": {
      "text/html": [
       "    <style>\n",
       "        .bk-notebook-logo {\n",
       "            display: block;\n",
       "            width: 20px;\n",
       "            height: 20px;\n",
       "            background-image: url(data:image/png;base64,iVBORw0KGgoAAAANSUhEUgAAABQAAAAUCAYAAACNiR0NAAAABHNCSVQICAgIfAhkiAAAAAlwSFlzAAALEgAACxIB0t1+/AAAABx0RVh0U29mdHdhcmUAQWRvYmUgRmlyZXdvcmtzIENTNui8sowAAAOkSURBVDiNjZRtaJVlGMd/1/08zzln5zjP1LWcU9N0NkN8m2CYjpgQYQXqSs0I84OLIC0hkEKoPtiH3gmKoiJDU7QpLgoLjLIQCpEsNJ1vqUOdO7ppbuec5+V+rj4ctwzd8IIbbi6u+8f1539dt3A78eXC7QizUF7gyV1fD1Yqg4JWz84yffhm0qkFqBogB9rM8tZdtwVsPUhWhGcFJngGeWrPzHm5oaMmkfEg1usvLFyc8jLRqDOMru7AyC8saQr7GG7f5fvDeH7Ej8CM66nIF+8yngt6HWaKh7k49Soy9nXurCi1o3qUbS3zWfrYeQDTB/Qj6kX6Ybhw4B+bOYoLKCC9H3Nu/leUTZ1JdRWkkn2ldcCamzrcf47KKXdAJllSlxAOkRgyHsGC/zRday5Qld9DyoM4/q/rUoy/CXh3jzOu3bHUVZeU+DEn8FInkPBFlu3+nW3Nw0mk6vCDiWg8CeJaxEwuHS3+z5RgY+YBR6V1Z1nxSOfoaPa4LASWxxdNp+VWTk7+4vzaou8v8PN+xo+KY2xsw6une2frhw05CTYOmQvsEhjhWjn0bmXPjpE1+kplmmkP3suftwTubK9Vq22qKmrBhpY4jvd5afdRA3wGjFAgcnTK2s4hY0/GPNIb0nErGMCRxWOOX64Z8RAC4oCXdklmEvcL8o0BfkNK4lUg9HTl+oPlQxdNo3Mg4Nv175e/1LDGzZen30MEjRUtmXSfiTVu1kK8W4txyV6BMKlbgk3lMwYCiusNy9fVfvvwMxv8Ynl6vxoByANLTWplvuj/nF9m2+PDtt1eiHPBr1oIfhCChQMBw6Aw0UulqTKZdfVvfG7VcfIqLG9bcldL/+pdWTLxLUy8Qq38heUIjh4XlzZxzQm19lLFlr8vdQ97rjZVOLf8nclzckbcD4wxXMidpX30sFd37Fv/GtwwhzhxGVAprjbg0gCAEeIgwCZyTV2Z1REEW8O4py0wsjeloKoMr6iCY6dP92H6Vw/oTyICIthibxjm/DfN9lVz8IqtqKYLUXfoKVMVQVVJOElGjrnnUt9T9wbgp8AyYKaGlqingHZU/uG2NTZSVqwHQTWkx9hxjkpWDaCg6Ckj5qebgBVbT3V3NNXMSiWSDdGV3hrtzla7J+duwPOToIg42ChPQOQjspnSlp1V+Gjdged7+8UN5CRAV7a5EdFNwCjEaBR27b3W890TE7g24NAP/mMDXRWrGoFPQI9ls/MWO2dWFAar/xcOIImbbpA3zgAAAABJRU5ErkJggg==);\n",
       "        }\n",
       "    </style>\n",
       "    <div>\n",
       "        <a href=\"https://bokeh.org\" target=\"_blank\" class=\"bk-notebook-logo\"></a>\n",
       "        <span id=\"d7e5b0e9-3929-4904-bb4f-d26239b1e6da\">Loading BokehJS ...</span>\n",
       "    </div>\n"
      ]
     },
     "metadata": {},
     "output_type": "display_data"
    },
    {
     "data": {
      "application/javascript": "'use strict';\n(function(root) {\n  function now() {\n    return new Date();\n  }\n\n  const force = true;\n\n  if (typeof root._bokeh_onload_callbacks === \"undefined\" || force === true) {\n    root._bokeh_onload_callbacks = [];\n    root._bokeh_is_loading = undefined;\n  }\n\nconst JS_MIME_TYPE = 'application/javascript';\n  const HTML_MIME_TYPE = 'text/html';\n  const EXEC_MIME_TYPE = 'application/vnd.bokehjs_exec.v0+json';\n  const CLASS_NAME = 'output_bokeh rendered_html';\n\n  /**\n   * Render data to the DOM node\n   */\n  function render(props, node) {\n    const script = document.createElement(\"script\");\n    node.appendChild(script);\n  }\n\n  /**\n   * Handle when an output is cleared or removed\n   */\n  function handleClearOutput(event, handle) {\n    function drop(id) {\n      const view = Bokeh.index.get_by_id(id)\n      if (view != null) {\n        view.model.document.clear()\n        Bokeh.index.delete(view)\n      }\n    }\n\n    const cell = handle.cell;\n\n    const id = cell.output_area._bokeh_element_id;\n    const server_id = cell.output_area._bokeh_server_id;\n\n    // Clean up Bokeh references\n    if (id != null) {\n      drop(id)\n    }\n\n    if (server_id !== undefined) {\n      // Clean up Bokeh references\n      const cmd_clean = \"from bokeh.io.state import curstate; print(curstate().uuid_to_server['\" + server_id + \"'].get_sessions()[0].document.roots[0]._id)\";\n      cell.notebook.kernel.execute(cmd_clean, {\n        iopub: {\n          output: function(msg) {\n            const id = msg.content.text.trim()\n            drop(id)\n          }\n        }\n      });\n      // Destroy server and session\n      const cmd_destroy = \"import bokeh.io.notebook as ion; ion.destroy_server('\" + server_id + \"')\";\n      cell.notebook.kernel.execute(cmd_destroy);\n    }\n  }\n\n  /**\n   * Handle when a new output is added\n   */\n  function handleAddOutput(event, handle) {\n    const output_area = handle.output_area;\n    const output = handle.output;\n\n    // limit handleAddOutput to display_data with EXEC_MIME_TYPE content only\n    if ((output.output_type != \"display_data\") || (!Object.prototype.hasOwnProperty.call(output.data, EXEC_MIME_TYPE))) {\n      return\n    }\n\n    const toinsert = output_area.element.find(\".\" + CLASS_NAME.split(' ')[0]);\n\n    if (output.metadata[EXEC_MIME_TYPE][\"id\"] !== undefined) {\n      toinsert[toinsert.length - 1].firstChild.textContent = output.data[JS_MIME_TYPE];\n      // store reference to embed id on output_area\n      output_area._bokeh_element_id = output.metadata[EXEC_MIME_TYPE][\"id\"];\n    }\n    if (output.metadata[EXEC_MIME_TYPE][\"server_id\"] !== undefined) {\n      const bk_div = document.createElement(\"div\");\n      bk_div.innerHTML = output.data[HTML_MIME_TYPE];\n      const script_attrs = bk_div.children[0].attributes;\n      for (let i = 0; i < script_attrs.length; i++) {\n        toinsert[toinsert.length - 1].firstChild.setAttribute(script_attrs[i].name, script_attrs[i].value);\n        toinsert[toinsert.length - 1].firstChild.textContent = bk_div.children[0].textContent\n      }\n      // store reference to server id on output_area\n      output_area._bokeh_server_id = output.metadata[EXEC_MIME_TYPE][\"server_id\"];\n    }\n  }\n\n  function register_renderer(events, OutputArea) {\n\n    function append_mime(data, metadata, element) {\n      // create a DOM node to render to\n      const toinsert = this.create_output_subarea(\n        metadata,\n        CLASS_NAME,\n        EXEC_MIME_TYPE\n      );\n      this.keyboard_manager.register_events(toinsert);\n      // Render to node\n      const props = {data: data, metadata: metadata[EXEC_MIME_TYPE]};\n      render(props, toinsert[toinsert.length - 1]);\n      element.append(toinsert);\n      return toinsert\n    }\n\n    /* Handle when an output is cleared or removed */\n    events.on('clear_output.CodeCell', handleClearOutput);\n    events.on('delete.Cell', handleClearOutput);\n\n    /* Handle when a new output is added */\n    events.on('output_added.OutputArea', handleAddOutput);\n\n    /**\n     * Register the mime type and append_mime function with output_area\n     */\n    OutputArea.prototype.register_mime_type(EXEC_MIME_TYPE, append_mime, {\n      /* Is output safe? */\n      safe: true,\n      /* Index of renderer in `output_area.display_order` */\n      index: 0\n    });\n  }\n\n  // register the mime type if in Jupyter Notebook environment and previously unregistered\n  if (root.Jupyter !== undefined) {\n    const events = require('base/js/events');\n    const OutputArea = require('notebook/js/outputarea').OutputArea;\n\n    if (OutputArea.prototype.mime_types().indexOf(EXEC_MIME_TYPE) == -1) {\n      register_renderer(events, OutputArea);\n    }\n  }\n  if (typeof (root._bokeh_timeout) === \"undefined\" || force === true) {\n    root._bokeh_timeout = Date.now() + 5000;\n    root._bokeh_failed_load = false;\n  }\n\n  const NB_LOAD_WARNING = {'data': {'text/html':\n     \"<div style='background-color: #fdd'>\\n\"+\n     \"<p>\\n\"+\n     \"BokehJS does not appear to have successfully loaded. If loading BokehJS from CDN, this \\n\"+\n     \"may be due to a slow or bad network connection. Possible fixes:\\n\"+\n     \"</p>\\n\"+\n     \"<ul>\\n\"+\n     \"<li>re-rerun `output_notebook()` to attempt to load from CDN again, or</li>\\n\"+\n     \"<li>use INLINE resources instead, as so:</li>\\n\"+\n     \"</ul>\\n\"+\n     \"<code>\\n\"+\n     \"from bokeh.resources import INLINE\\n\"+\n     \"output_notebook(resources=INLINE)\\n\"+\n     \"</code>\\n\"+\n     \"</div>\"}};\n\n  function display_loaded(error = null) {\n    const el = document.getElementById(\"d7e5b0e9-3929-4904-bb4f-d26239b1e6da\");\n    if (el != null) {\n      const html = (() => {\n        if (typeof root.Bokeh === \"undefined\") {\n          if (error == null) {\n            return \"BokehJS is loading ...\";\n          } else {\n            return \"BokehJS failed to load.\";\n          }\n        } else {\n          const prefix = `BokehJS ${root.Bokeh.version}`;\n          if (error == null) {\n            return `${prefix} successfully loaded.`;\n          } else {\n            return `${prefix} <b>encountered errors</b> while loading and may not function as expected.`;\n          }\n        }\n      })();\n      el.innerHTML = html;\n\n      if (error != null) {\n        const wrapper = document.createElement(\"div\");\n        wrapper.style.overflow = \"auto\";\n        wrapper.style.height = \"5em\";\n        wrapper.style.resize = \"vertical\";\n        const content = document.createElement(\"div\");\n        content.style.fontFamily = \"monospace\";\n        content.style.whiteSpace = \"pre-wrap\";\n        content.style.backgroundColor = \"rgb(255, 221, 221)\";\n        content.textContent = error.stack ?? error.toString();\n        wrapper.append(content);\n        el.append(wrapper);\n      }\n    } else if (Date.now() < root._bokeh_timeout) {\n      setTimeout(() => display_loaded(error), 100);\n    }\n  }\n\n  function run_callbacks() {\n    try {\n      root._bokeh_onload_callbacks.forEach(function(callback) {\n        if (callback != null)\n          callback();\n      });\n    } finally {\n      delete root._bokeh_onload_callbacks\n    }\n    console.debug(\"Bokeh: all callbacks have finished\");\n  }\n\n  function load_libs(css_urls, js_urls, callback) {\n    if (css_urls == null) css_urls = [];\n    if (js_urls == null) js_urls = [];\n\n    root._bokeh_onload_callbacks.push(callback);\n    if (root._bokeh_is_loading > 0) {\n      console.debug(\"Bokeh: BokehJS is being loaded, scheduling callback at\", now());\n      return null;\n    }\n    if (js_urls == null || js_urls.length === 0) {\n      run_callbacks();\n      return null;\n    }\n    console.debug(\"Bokeh: BokehJS not loaded, scheduling load and callback at\", now());\n    root._bokeh_is_loading = css_urls.length + js_urls.length;\n\n    function on_load() {\n      root._bokeh_is_loading--;\n      if (root._bokeh_is_loading === 0) {\n        console.debug(\"Bokeh: all BokehJS libraries/stylesheets loaded\");\n        run_callbacks()\n      }\n    }\n\n    function on_error(url) {\n      console.error(\"failed to load \" + url);\n    }\n\n    for (let i = 0; i < css_urls.length; i++) {\n      const url = css_urls[i];\n      const element = document.createElement(\"link\");\n      element.onload = on_load;\n      element.onerror = on_error.bind(null, url);\n      element.rel = \"stylesheet\";\n      element.type = \"text/css\";\n      element.href = url;\n      console.debug(\"Bokeh: injecting link tag for BokehJS stylesheet: \", url);\n      document.body.appendChild(element);\n    }\n\n    for (let i = 0; i < js_urls.length; i++) {\n      const url = js_urls[i];\n      const element = document.createElement('script');\n      element.onload = on_load;\n      element.onerror = on_error.bind(null, url);\n      element.async = false;\n      element.src = url;\n      console.debug(\"Bokeh: injecting script tag for BokehJS library: \", url);\n      document.head.appendChild(element);\n    }\n  };\n\n  function inject_raw_css(css) {\n    const element = document.createElement(\"style\");\n    element.appendChild(document.createTextNode(css));\n    document.body.appendChild(element);\n  }\n\n  const js_urls = [\"https://cdn.bokeh.org/bokeh/release/bokeh-3.8.0.min.js\", \"https://cdn.bokeh.org/bokeh/release/bokeh-gl-3.8.0.min.js\", \"https://cdn.bokeh.org/bokeh/release/bokeh-widgets-3.8.0.min.js\", \"https://cdn.bokeh.org/bokeh/release/bokeh-tables-3.8.0.min.js\", \"https://cdn.bokeh.org/bokeh/release/bokeh-mathjax-3.8.0.min.js\"];\n  const css_urls = [];\n\n  const inline_js = [    function(Bokeh) {\n      Bokeh.set_log_level(\"info\");\n    },\nfunction(Bokeh) {\n    }\n  ];\n\n  function run_inline_js() {\n    if (root.Bokeh !== undefined || force === true) {\n      try {\n            for (let i = 0; i < inline_js.length; i++) {\n      inline_js[i].call(root, root.Bokeh);\n    }\n\n      } catch (error) {display_loaded(error);throw error;\n      }if (force === true) {\n        display_loaded();\n      }} else if (Date.now() < root._bokeh_timeout) {\n      setTimeout(run_inline_js, 100);\n    } else if (!root._bokeh_failed_load) {\n      console.log(\"Bokeh: BokehJS failed to load within specified timeout.\");\n      root._bokeh_failed_load = true;\n    } else if (force !== true) {\n      const cell = $(document.getElementById(\"d7e5b0e9-3929-4904-bb4f-d26239b1e6da\")).parents('.cell').data().cell;\n      cell.output_area.append_execute_result(NB_LOAD_WARNING)\n    }\n  }\n\n  if (root._bokeh_is_loading === 0) {\n    console.debug(\"Bokeh: BokehJS loaded, going straight to plotting\");\n    run_inline_js();\n  } else {\n    load_libs(css_urls, js_urls, function() {\n      console.debug(\"Bokeh: BokehJS plotting callback run at\", now());\n      run_inline_js();\n    });\n  }\n}(window));",
      "application/vnd.bokehjs_load.v0+json": ""
     },
     "metadata": {},
     "output_type": "display_data"
    }
   ],
   "source": [
    "from bokeh.plotting import figure, show, output_file, save\n",
    "from bokeh.models import ColumnDataSource,  HoverTool, Legend\n",
    "from bokeh.transform import factor_cmap\n",
    "from bokeh.io import output_notebook \n",
    "output_notebook()"
   ]
  },
  {
   "cell_type": "code",
   "execution_count": 169,
   "id": "432fe12b",
   "metadata": {},
   "outputs": [],
   "source": [
    "df['screen_size'] = (df['sc_h']*df['sc_w']).astype('int16')"
   ]
  },
  {
   "cell_type": "code",
   "execution_count": null,
   "id": "c29c53c8",
   "metadata": {},
   "outputs": [],
   "source": [
    "types = df['price_range'].unique().astype(str).tolist()\n",
    "df['price_range'] = df['price_range'].astype('str').astype('category')\n",
    "source = ColumnDataSource(data=df.sample(frac=0.1))\n",
    "p = figure(width=1000)\n",
    "p.scatter(source=source, x='screen_size', y='battery_power', color=factor_cmap(field_name='price_range', palette='Category10_4', factors=types), legend_field='price_range')\n",
    "hover = HoverTool(tooltips=[('battery power ', '@battery_power'),\n",
    "                              ('price', '@price_range'),\n",
    "                              ('screen size', '@screen_size')])\n",
    "\n",
    "p.add_tools(hover)\n",
    "show(p)\n",
    "\n"
   ]
  },
  {
   "cell_type": "code",
   "execution_count": 178,
   "id": "f997f382",
   "metadata": {},
   "outputs": [
    {
     "data": {
      "text/plain": [
       "'/home/mainuser/lab_project/eda/graph7.html'"
      ]
     },
     "execution_count": 178,
     "metadata": {},
     "output_type": "execute_result"
    }
   ],
   "source": [
    "output_file(filename='/home/mainuser/lab_project/eda/graph7.html',title='Static HTML graph file')\n",
    "\n",
    "save(p)"
   ]
  },
  {
   "cell_type": "markdown",
   "id": "4df99369",
   "metadata": {},
   "source": [
    "Данный график показывает отсутствие зависимости между размером батареи и экрана у представленных моделей, а также тот факт, что в каждом ценовом сегменте равно представлены модели с различным размером экрана, что делает этот совокупный фактор также малоинформативным для классификации."
   ]
  },
  {
   "cell_type": "markdown",
   "id": "3bf94754",
   "metadata": {},
   "source": [
    "# Сохранение обработанного датасета"
   ]
  },
  {
   "cell_type": "code",
   "execution_count": 172,
   "id": "6fb605f9",
   "metadata": {},
   "outputs": [],
   "source": [
    "df.to_pickle('/home/mainuser/lab_project/data/clean_data.pkl')"
   ]
  },
  {
   "cell_type": "code",
   "execution_count": 173,
   "id": "22966774",
   "metadata": {},
   "outputs": [
    {
     "name": "stdout",
     "output_type": "stream",
     "text": [
      "<class 'pandas.core.frame.DataFrame'>\n",
      "Index: 1819 entries, 0 to 1999\n",
      "Data columns (total 23 columns):\n",
      " #   Column               Non-Null Count  Dtype   \n",
      "---  ------               --------------  -----   \n",
      " 0   battery_power        1819 non-null   int16   \n",
      " 1   blue                 1819 non-null   category\n",
      " 2   clock_speed          1819 non-null   float16 \n",
      " 3   dual_sim             1819 non-null   category\n",
      " 4   fc                   1819 non-null   int16   \n",
      " 5   four_g               1819 non-null   category\n",
      " 6   int_memory           1819 non-null   int16   \n",
      " 7   m_dep                1819 non-null   float16 \n",
      " 8   mobile_wt            1819 non-null   int16   \n",
      " 9   n_cores              1819 non-null   int16   \n",
      " 10  pc                   1819 non-null   int16   \n",
      " 11  px_height            1819 non-null   int16   \n",
      " 12  px_width             1819 non-null   int16   \n",
      " 13  ram                  1819 non-null   int16   \n",
      " 14  sc_h                 1819 non-null   int16   \n",
      " 15  sc_w                 1819 non-null   int16   \n",
      " 16  talk_time            1819 non-null   int16   \n",
      " 17  three_g              1819 non-null   category\n",
      " 18  touch_screen         1819 non-null   category\n",
      " 19  wifi                 1819 non-null   category\n",
      " 20  price_range          1819 non-null   category\n",
      " 21  high_speed_ethernet  1819 non-null   category\n",
      " 22  screen_size          1819 non-null   int16   \n",
      "dtypes: category(8), float16(2), int16(13)\n",
      "memory usage: 81.9 KB\n"
     ]
    }
   ],
   "source": [
    "df = pd.read_pickle('/home/mainuser/lab_project/data/clean_data.pkl')\n",
    "df.info()"
   ]
  },
  {
   "cell_type": "markdown",
   "id": "c601a700",
   "metadata": {},
   "source": [
    "# Выводы после EDA"
   ]
  },
  {
   "cell_type": "markdown",
   "id": "4c4a1a51",
   "metadata": {},
   "source": [
    "- При очистке данных отсеяны некорректные параметры экранов.\n",
    "- Создано два новых признака: high_speed_ethernet объединяет признаки three_g и four_g, поскольку фактически они зависимы (моделей с 4g, но без 3g быть не может), а screen_size является производным от физических размеров экрана для удобства оценки.\n",
    "- Для последующей классификации может быть полезен фактор размера батареи, но малополезны факторы размера экрана и особых параметров связи."
   ]
  }
 ],
 "metadata": {
  "kernelspec": {
   "display_name": ".lab_venv (3.10.12)",
   "language": "python",
   "name": "python3"
  },
  "language_info": {
   "codemirror_mode": {
    "name": "ipython",
    "version": 3
   },
   "file_extension": ".py",
   "mimetype": "text/x-python",
   "name": "python",
   "nbconvert_exporter": "python",
   "pygments_lexer": "ipython3",
   "version": "3.10.12"
  }
 },
 "nbformat": 4,
 "nbformat_minor": 5
}
